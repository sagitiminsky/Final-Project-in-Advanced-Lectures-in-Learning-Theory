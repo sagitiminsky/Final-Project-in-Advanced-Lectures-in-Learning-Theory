{
  "nbformat": 4,
  "nbformat_minor": 0,
  "metadata": {
    "colab": {
      "name": "part1",
      "provenance": [],
      "collapsed_sections": [],
      "authorship_tag": "ABX9TyPncnVkERHWzz/R14zw3rYU",
      "include_colab_link": true
    },
    "kernelspec": {
      "name": "python3",
      "display_name": "Python 3"
    },
    "language_info": {
      "name": "python"
    },
    "accelerator": "GPU",
    "widgets": {
      "application/vnd.jupyter.widget-state+json": {
        "af848c3f74554d0f9bd3f80eb82c4bc9": {
          "model_module": "@jupyter-widgets/controls",
          "model_name": "VBoxModel",
          "model_module_version": "1.5.0",
          "state": {
            "_view_name": "VBoxView",
            "_dom_classes": [],
            "_model_name": "VBoxModel",
            "_view_module": "@jupyter-widgets/controls",
            "_model_module_version": "1.5.0",
            "_view_count": null,
            "_view_module_version": "1.5.0",
            "box_style": "",
            "layout": "IPY_MODEL_ebc123f15fb84c729affc3029616d069",
            "_model_module": "@jupyter-widgets/controls",
            "children": [
              "IPY_MODEL_29d72c3fd8164e84b1c8a61af12ebfcb",
              "IPY_MODEL_4be9bbedb9bd48758f6241fa9efae410"
            ]
          }
        },
        "ebc123f15fb84c729affc3029616d069": {
          "model_module": "@jupyter-widgets/base",
          "model_name": "LayoutModel",
          "model_module_version": "1.2.0",
          "state": {
            "_view_name": "LayoutView",
            "grid_template_rows": null,
            "right": null,
            "justify_content": null,
            "_view_module": "@jupyter-widgets/base",
            "overflow": null,
            "_model_module_version": "1.2.0",
            "_view_count": null,
            "flex_flow": null,
            "width": null,
            "min_width": null,
            "border": null,
            "align_items": null,
            "bottom": null,
            "_model_module": "@jupyter-widgets/base",
            "top": null,
            "grid_column": null,
            "overflow_y": null,
            "overflow_x": null,
            "grid_auto_flow": null,
            "grid_area": null,
            "grid_template_columns": null,
            "flex": null,
            "_model_name": "LayoutModel",
            "justify_items": null,
            "grid_row": null,
            "max_height": null,
            "align_content": null,
            "visibility": null,
            "align_self": null,
            "height": null,
            "min_height": null,
            "padding": null,
            "grid_auto_rows": null,
            "grid_gap": null,
            "max_width": null,
            "order": null,
            "_view_module_version": "1.2.0",
            "grid_template_areas": null,
            "object_position": null,
            "object_fit": null,
            "grid_auto_columns": null,
            "margin": null,
            "display": null,
            "left": null
          }
        },
        "29d72c3fd8164e84b1c8a61af12ebfcb": {
          "model_module": "@jupyter-widgets/controls",
          "model_name": "LabelModel",
          "model_module_version": "1.5.0",
          "state": {
            "_view_name": "LabelView",
            "style": "IPY_MODEL_0fda837a6b264812a5b8bba8563e4e7d",
            "_dom_classes": [],
            "description": "",
            "_model_name": "LabelModel",
            "placeholder": "​",
            "_view_module": "@jupyter-widgets/controls",
            "_model_module_version": "1.5.0",
            "value": " 0.01MB of 0.01MB uploaded (0.00MB deduped)\r",
            "_view_count": null,
            "_view_module_version": "1.5.0",
            "description_tooltip": null,
            "_model_module": "@jupyter-widgets/controls",
            "layout": "IPY_MODEL_0fa8a77c83574321bb0f1e92fb7a5587"
          }
        },
        "4be9bbedb9bd48758f6241fa9efae410": {
          "model_module": "@jupyter-widgets/controls",
          "model_name": "FloatProgressModel",
          "model_module_version": "1.5.0",
          "state": {
            "_view_name": "ProgressView",
            "style": "IPY_MODEL_13d03236303b49b5b4e2f97dafa40a66",
            "_dom_classes": [],
            "description": "",
            "_model_name": "FloatProgressModel",
            "bar_style": "",
            "max": 1,
            "_view_module": "@jupyter-widgets/controls",
            "_model_module_version": "1.5.0",
            "value": 1,
            "_view_count": null,
            "_view_module_version": "1.5.0",
            "orientation": "horizontal",
            "min": 0,
            "description_tooltip": null,
            "_model_module": "@jupyter-widgets/controls",
            "layout": "IPY_MODEL_fc6c0ad4e0e64273ba748e4334135563"
          }
        },
        "0fda837a6b264812a5b8bba8563e4e7d": {
          "model_module": "@jupyter-widgets/controls",
          "model_name": "DescriptionStyleModel",
          "model_module_version": "1.5.0",
          "state": {
            "_view_name": "StyleView",
            "_model_name": "DescriptionStyleModel",
            "description_width": "",
            "_view_module": "@jupyter-widgets/base",
            "_model_module_version": "1.5.0",
            "_view_count": null,
            "_view_module_version": "1.2.0",
            "_model_module": "@jupyter-widgets/controls"
          }
        },
        "0fa8a77c83574321bb0f1e92fb7a5587": {
          "model_module": "@jupyter-widgets/base",
          "model_name": "LayoutModel",
          "model_module_version": "1.2.0",
          "state": {
            "_view_name": "LayoutView",
            "grid_template_rows": null,
            "right": null,
            "justify_content": null,
            "_view_module": "@jupyter-widgets/base",
            "overflow": null,
            "_model_module_version": "1.2.0",
            "_view_count": null,
            "flex_flow": null,
            "width": null,
            "min_width": null,
            "border": null,
            "align_items": null,
            "bottom": null,
            "_model_module": "@jupyter-widgets/base",
            "top": null,
            "grid_column": null,
            "overflow_y": null,
            "overflow_x": null,
            "grid_auto_flow": null,
            "grid_area": null,
            "grid_template_columns": null,
            "flex": null,
            "_model_name": "LayoutModel",
            "justify_items": null,
            "grid_row": null,
            "max_height": null,
            "align_content": null,
            "visibility": null,
            "align_self": null,
            "height": null,
            "min_height": null,
            "padding": null,
            "grid_auto_rows": null,
            "grid_gap": null,
            "max_width": null,
            "order": null,
            "_view_module_version": "1.2.0",
            "grid_template_areas": null,
            "object_position": null,
            "object_fit": null,
            "grid_auto_columns": null,
            "margin": null,
            "display": null,
            "left": null
          }
        },
        "13d03236303b49b5b4e2f97dafa40a66": {
          "model_module": "@jupyter-widgets/controls",
          "model_name": "ProgressStyleModel",
          "model_module_version": "1.5.0",
          "state": {
            "_view_name": "StyleView",
            "_model_name": "ProgressStyleModel",
            "description_width": "",
            "_view_module": "@jupyter-widgets/base",
            "_model_module_version": "1.5.0",
            "_view_count": null,
            "_view_module_version": "1.2.0",
            "bar_color": null,
            "_model_module": "@jupyter-widgets/controls"
          }
        },
        "fc6c0ad4e0e64273ba748e4334135563": {
          "model_module": "@jupyter-widgets/base",
          "model_name": "LayoutModel",
          "model_module_version": "1.2.0",
          "state": {
            "_view_name": "LayoutView",
            "grid_template_rows": null,
            "right": null,
            "justify_content": null,
            "_view_module": "@jupyter-widgets/base",
            "overflow": null,
            "_model_module_version": "1.2.0",
            "_view_count": null,
            "flex_flow": null,
            "width": null,
            "min_width": null,
            "border": null,
            "align_items": null,
            "bottom": null,
            "_model_module": "@jupyter-widgets/base",
            "top": null,
            "grid_column": null,
            "overflow_y": null,
            "overflow_x": null,
            "grid_auto_flow": null,
            "grid_area": null,
            "grid_template_columns": null,
            "flex": null,
            "_model_name": "LayoutModel",
            "justify_items": null,
            "grid_row": null,
            "max_height": null,
            "align_content": null,
            "visibility": null,
            "align_self": null,
            "height": null,
            "min_height": null,
            "padding": null,
            "grid_auto_rows": null,
            "grid_gap": null,
            "max_width": null,
            "order": null,
            "_view_module_version": "1.2.0",
            "grid_template_areas": null,
            "object_position": null,
            "object_fit": null,
            "grid_auto_columns": null,
            "margin": null,
            "display": null,
            "left": null
          }
        }
      }
    }
  },
  "cells": [
    {
      "cell_type": "markdown",
      "metadata": {
        "id": "view-in-github",
        "colab_type": "text"
      },
      "source": [
        "<a href=\"https://colab.research.google.com/github/sagitiminsky/Final-Project-in-Advanced-Lectures-in-Learning-Theory/blob/part1/part1.ipynb\" target=\"_parent\"><img src=\"https://colab.research.google.com/assets/colab-badge.svg\" alt=\"Open In Colab\"/></a>"
      ]
    },
    {
      "cell_type": "markdown",
      "source": [
        "# Imports"
      ],
      "metadata": {
        "id": "XQp5qWm-l0lT"
      }
    },
    {
      "cell_type": "code",
      "source": [
        "import torchvision.datasets as datasets\n",
        "import torch\n",
        "import torchvision.transforms\n",
        "import copy\n",
        "!pip3 install wandb\n",
        "!wandb login\n",
        "import wandb\n",
        "import torch.nn as nn\n",
        "import torch.nn.functional as F\n",
        "import torch.optim as optim\n",
        "import os"
      ],
      "metadata": {
        "id": "nr1zFGF6l5Pc",
        "colab": {
          "base_uri": "https://localhost:8080/"
        },
        "outputId": "6121275d-3bd5-447d-e85a-8df8fc2b5e13"
      },
      "execution_count": 21,
      "outputs": [
        {
          "output_type": "stream",
          "name": "stdout",
          "text": [
            "Requirement already satisfied: wandb in /usr/local/lib/python3.7/dist-packages (0.12.10)\n",
            "Requirement already satisfied: Click!=8.0.0,>=7.0 in /usr/local/lib/python3.7/dist-packages (from wandb) (7.1.2)\n",
            "Requirement already satisfied: requests<3,>=2.0.0 in /usr/local/lib/python3.7/dist-packages (from wandb) (2.23.0)\n",
            "Requirement already satisfied: yaspin>=1.0.0 in /usr/local/lib/python3.7/dist-packages (from wandb) (2.1.0)\n",
            "Requirement already satisfied: pathtools in /usr/local/lib/python3.7/dist-packages (from wandb) (0.1.2)\n",
            "Requirement already satisfied: GitPython>=1.0.0 in /usr/local/lib/python3.7/dist-packages (from wandb) (3.1.26)\n",
            "Requirement already satisfied: python-dateutil>=2.6.1 in /usr/local/lib/python3.7/dist-packages (from wandb) (2.8.2)\n",
            "Requirement already satisfied: shortuuid>=0.5.0 in /usr/local/lib/python3.7/dist-packages (from wandb) (1.0.8)\n",
            "Requirement already satisfied: docker-pycreds>=0.4.0 in /usr/local/lib/python3.7/dist-packages (from wandb) (0.4.0)\n",
            "Requirement already satisfied: promise<3,>=2.0 in /usr/local/lib/python3.7/dist-packages (from wandb) (2.3)\n",
            "Requirement already satisfied: six>=1.13.0 in /usr/local/lib/python3.7/dist-packages (from wandb) (1.15.0)\n",
            "Requirement already satisfied: sentry-sdk>=1.0.0 in /usr/local/lib/python3.7/dist-packages (from wandb) (1.5.5)\n",
            "Requirement already satisfied: PyYAML in /usr/local/lib/python3.7/dist-packages (from wandb) (3.13)\n",
            "Requirement already satisfied: protobuf>=3.12.0 in /usr/local/lib/python3.7/dist-packages (from wandb) (3.17.3)\n",
            "Requirement already satisfied: psutil>=5.0.0 in /usr/local/lib/python3.7/dist-packages (from wandb) (5.4.8)\n",
            "Requirement already satisfied: gitdb<5,>=4.0.1 in /usr/local/lib/python3.7/dist-packages (from GitPython>=1.0.0->wandb) (4.0.9)\n",
            "Requirement already satisfied: typing-extensions>=3.7.4.3 in /usr/local/lib/python3.7/dist-packages (from GitPython>=1.0.0->wandb) (3.10.0.2)\n",
            "Requirement already satisfied: smmap<6,>=3.0.1 in /usr/local/lib/python3.7/dist-packages (from gitdb<5,>=4.0.1->GitPython>=1.0.0->wandb) (5.0.0)\n",
            "Requirement already satisfied: chardet<4,>=3.0.2 in /usr/local/lib/python3.7/dist-packages (from requests<3,>=2.0.0->wandb) (3.0.4)\n",
            "Requirement already satisfied: idna<3,>=2.5 in /usr/local/lib/python3.7/dist-packages (from requests<3,>=2.0.0->wandb) (2.10)\n",
            "Requirement already satisfied: urllib3!=1.25.0,!=1.25.1,<1.26,>=1.21.1 in /usr/local/lib/python3.7/dist-packages (from requests<3,>=2.0.0->wandb) (1.24.3)\n",
            "Requirement already satisfied: certifi>=2017.4.17 in /usr/local/lib/python3.7/dist-packages (from requests<3,>=2.0.0->wandb) (2021.10.8)\n",
            "Requirement already satisfied: termcolor<2.0.0,>=1.1.0 in /usr/local/lib/python3.7/dist-packages (from yaspin>=1.0.0->wandb) (1.1.0)\n",
            "\u001b[34m\u001b[1mwandb\u001b[0m: Currently logged in as: \u001b[33msagit\u001b[0m (use `wandb login --relogin` to force relogin)\n"
          ]
        }
      ]
    },
    {
      "cell_type": "markdown",
      "source": [
        "# Sources\n",
        "\n",
        "\n",
        "1.   GD - https://www.linkedin.com/pulse/pytorch-gradient-descent-stochastic-mini-batch-code-sobh-phd/\n",
        "2.  Constrained GD - https://botorch.org/tutorials/optimize_stochastic\n",
        "\n"
      ],
      "metadata": {
        "id": "rtg8c0EyBeRj"
      }
    },
    {
      "cell_type": "markdown",
      "source": [
        "# Connect to Drive"
      ],
      "metadata": {
        "id": "LmsW6UHfoi0r"
      }
    },
    {
      "cell_type": "code",
      "source": [
        "from google.colab import drive\n",
        "drive.mount('/content/drive')"
      ],
      "metadata": {
        "colab": {
          "base_uri": "https://localhost:8080/"
        },
        "id": "2KLgJxQkoqNV",
        "outputId": "be86f17a-c5e4-46be-8009-7330692ce7bd"
      },
      "execution_count": 22,
      "outputs": [
        {
          "output_type": "stream",
          "name": "stdout",
          "text": [
            "Drive already mounted at /content/drive; to attempt to forcibly remount, call drive.mount(\"/content/drive\", force_remount=True).\n"
          ]
        }
      ]
    },
    {
      "cell_type": "code",
      "source": [
        "root=\"/content/drive/MyDrive/university/Masters/datasets\""
      ],
      "metadata": {
        "id": "B4bI2jNDpiYs"
      },
      "execution_count": 23,
      "outputs": []
    },
    {
      "cell_type": "markdown",
      "source": [
        "# MNIST Dataset Preprocessing\n",
        "\n",
        "\n",
        "*   According to the assignment, we should construct one big data set (which you will later divide to train-test by our selves.\n",
        "*   We will preform the following transformations: Flip the image horizontally and then rotate it 90 degrees anti-clockwise. Without if the images are not alligend correctly which might suboptimal results in run-time (We assume that the images proviveded in run time are alligned correctly)\n",
        "\n",
        "\n"
      ],
      "metadata": {
        "id": "lTjZ5XkQllUC"
      }
    },
    {
      "cell_type": "code",
      "source": [
        "transform=torchvision.transforms.Compose([\n",
        "                    lambda img: torchvision.transforms.functional.rotate(img, -90),\n",
        "                    lambda img: torchvision.transforms.functional.hflip(img)\n",
        "                ])\n",
        "\n",
        "mnist_trainset = datasets.EMNIST(root=root, train=True, split=\"mnist\",download=True, transform=transform)\n",
        "mnist_testset = datasets.EMNIST(root=root, train=False, split=\"mnist\",download=True, transform=transform)\n",
        "\n",
        "mnist_dataset=mnist_trainset + mnist_testset"
      ],
      "metadata": {
        "id": "isIoQD3dlr9L"
      },
      "execution_count": 24,
      "outputs": []
    },
    {
      "cell_type": "code",
      "source": [
        "def visualize_a_few_samples(dataset,n):\n",
        "  for i in range(n):\n",
        "    train_image_sample, train_target_sample = dataset[i]\n",
        "    # display(train_image_sample)\n",
        "    print(f'GT: {train_target_sample}')\n",
        "    # print(f'size: {train_image_sample.size}')\n",
        "\n",
        "visualize_a_few_samples(mnist_dataset,5)"
      ],
      "metadata": {
        "colab": {
          "base_uri": "https://localhost:8080/"
        },
        "id": "2OeUJ67lvCla",
        "outputId": "f70e6378-74c6-4228-a633-7c21f0736817"
      },
      "execution_count": 25,
      "outputs": [
        {
          "output_type": "stream",
          "name": "stdout",
          "text": [
            "GT: 4\n",
            "GT: 1\n",
            "GT: 4\n",
            "GT: 1\n",
            "GT: 6\n"
          ]
        }
      ]
    },
    {
      "cell_type": "markdown",
      "source": [
        "# Preprocessing and creting 3 different classification problems\n",
        "\n",
        "\n",
        "\n",
        "\n",
        "*   As before we fliped and rotated the image\n",
        "*   The values 0.1307 and 0.3081 used for the Normalize() transformation below are the global mean and standard deviation of the MNIST dataset. It is important to do that because slow convergence might occur. \n",
        "Is illustrated left, the steepest gradient is searched which is somewhat in the correction direction but also possesses quite a large oscillation part. A relatively large learning rate is required for the surface are feature sicne its range is large. However this large learning rate is too large for the optimizer which overshoots at each step - this results in oscillation and hence slow convergence.\n",
        "![1_onZIiGguLfbUYs3aTtmijg.jpeg](data:image/jpeg;base64,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)\n",
        "\n",
        "\n"
      ],
      "metadata": {
        "id": "KPDgjS19HdNG"
      }
    },
    {
      "cell_type": "code",
      "source": [
        "from torchvision.transforms import transforms\n",
        "transform=torchvision.transforms.Compose([\n",
        "                    lambda img: torchvision.transforms.functional.rotate(img, -90),\n",
        "                    lambda img: torchvision.transforms.functional.hflip(img),\n",
        "                    transforms.ToTensor(),\n",
        "                    transforms.Normalize((0.1307), (0.3081))\n",
        "                ])"
      ],
      "metadata": {
        "id": "LG-R3C8j4Gce"
      },
      "execution_count": 26,
      "outputs": []
    },
    {
      "cell_type": "code",
      "source": [
        "#we assign the label 0 to all examples labeled [0,1,2,3,4] and the label 1 to all examples labeled [5,6,7,8,9]\n",
        "\n",
        "def zero_to_four_vs_five_to_nine(number):\n",
        "  if number>=0 and number<=4:\n",
        "    res=torch.tensor([0]).to(torch.float32)\n",
        "  elif number>=5 and number<=9:\n",
        "     res=torch.tensor([1]).to(torch.float32)\n",
        "  else:\n",
        "    raise Exception(f\"{number} is not a valid target in the dataset\")\n",
        "\n",
        "  return res\n",
        "\n",
        "mnist_trainset_zero_to_four_vs_five_to_nine = datasets.EMNIST(root=root, train=True, split=\"mnist\",download=True, transform=transform, target_transform=zero_to_four_vs_five_to_nine)\n",
        "mnist_testset_zero_to_four_vs_five_to_nine = datasets.EMNIST(root=root, train=False, split=\"mnist\",download=True, transform=transform, target_transform=zero_to_four_vs_five_to_nine)\n",
        "\n",
        "mnist_dataset_zero_to_four_vs_five_to_nine = mnist_trainset_zero_to_four_vs_five_to_nine + mnist_testset_zero_to_four_vs_five_to_nine\n",
        "\n",
        "visualize_a_few_samples(mnist_testset_zero_to_four_vs_five_to_nine, 5)"
      ],
      "metadata": {
        "id": "_EnujD1pHh1h",
        "colab": {
          "base_uri": "https://localhost:8080/"
        },
        "outputId": "f7a97f2f-ced9-46f1-f0b2-77837201126d"
      },
      "execution_count": 27,
      "outputs": [
        {
          "output_type": "stream",
          "name": "stdout",
          "text": [
            "GT: tensor([0.])\n",
            "GT: tensor([1.])\n",
            "GT: tensor([1.])\n",
            "GT: tensor([1.])\n",
            "GT: tensor([1.])\n"
          ]
        }
      ]
    },
    {
      "cell_type": "code",
      "source": [
        "#we assign the lable 1 to even numbers, and the label 0 to odd numbers\n",
        "def even_vs_odd(number):\n",
        "  if number>=0 and number<=9:\n",
        "    return torch.tensor([number%2]).to(torch.float32)\n",
        "  else:\n",
        "    raise Exception(f\"{number} is not a valid target in the dataset\")\n",
        "\n",
        "\n",
        "mnist_trainset_even_vs_odd = datasets.EMNIST(root=root, train=True, split=\"mnist\",download=True, transform=transform, target_transform=even_vs_odd)\n",
        "mnist_testset_even_vs_odd = datasets.EMNIST(root=root, train=False, split=\"mnist\",download=True, transform=transform, target_transform=even_vs_odd)\n",
        "\n",
        "mnist_dataset_even_vs_odd = mnist_trainset_even_vs_odd + mnist_testset_even_vs_odd\n",
        "\n",
        "#visualize_a_few_samples(mnist_dataset_even_vs_odd, 5)"
      ],
      "metadata": {
        "id": "4P0IM1RjH28j"
      },
      "execution_count": 28,
      "outputs": []
    },
    {
      "cell_type": "code",
      "source": [
        "#we assign the lable 1 to primary numbers, and the label 0 to non primary numbers\n",
        "def prime_vs_not_prime(number):\n",
        "  is_prime=[1,2,3,5,7]\n",
        "  if number>=0 and number<=9:\n",
        "    if number in is_prime:\n",
        "      return torch.tensor([1]).to(torch.float32)\n",
        "    else:\n",
        "      return torch.tensor([0]).to(torch.float32)\n",
        "  else:\n",
        "    raise Exception(f\"{number} is not a valid target in the dataset\")\n",
        "\n",
        "\n",
        "mnist_trainset_prime_vs_not_prime = datasets.EMNIST(root=root, train=True, split=\"mnist\",download=True, transform=transform, target_transform=prime_vs_not_prime)\n",
        "mnist_testset_prime_vs_not_prime = datasets.EMNIST(root=root, train=False, split=\"mnist\",download=True, transform=transform, target_transform=prime_vs_not_prime)\n",
        "\n",
        "mnist_dataset_prime_vs_not_prime = mnist_trainset_prime_vs_not_prime + mnist_testset_prime_vs_not_prime\n",
        "\n",
        "#visualize_a_few_samples(mnist_dataset_prime_vs_not_prime, 5)\n",
        "\n"
      ],
      "metadata": {
        "id": "uCg3FXVOIEi9"
      },
      "execution_count": 29,
      "outputs": []
    },
    {
      "cell_type": "markdown",
      "source": [
        "# Experiment A: Optimization\n",
        "*   In order to keep our experiments clean and tidy, we are going to visualize them in WandB\n",
        "*   As mentioned we are going to use only the traning set in this section for each classification problem\n",
        "\n"
      ],
      "metadata": {
        "id": "B9OwpZD3X0uJ"
      }
    },
    {
      "cell_type": "markdown",
      "source": [
        "Using the lecture notes and what we studied in class, choose “theoretically justified” learning rates and other parameters (such as λ in\n",
        "regularized GD). State your choice and provide the justification.\n"
      ],
      "metadata": {
        "id": "LlZSVg07d6gR"
      }
    },
    {
      "cell_type": "markdown",
      "source": [
        "**Answer:**\n",
        "One of the most important parameters to select is the learning rate. Adapting a parameter on trainer init and as the model trains can reduce training time and avoiding local minimums.\n",
        "\n",
        "*   The common approach is to start with a small parameter value and increase it exponentially if two apochs in a row reduce the error.\n",
        "*   Another approach relies on gradient direction - again we start with a small parameter value but this time we increase it if for two epochs in row the gradient direction is similar, otherwise decrease it if the direcctions differs.\n",
        "\n",
        "Two other important parametrs are the depth(number of layers) and the width(number of neurons) of the nueral network. If adding a new layer does not provide significate decrease in the training error then there most liklely is not need to add more layers. Same goes for the network's width.\n",
        "\n",
        "Also, from Theorem 4.3 in lesson 4 we saw that for an ϵ-optimal solution (we assume that the data is bounded in a ball of diameter D)\n",
        "![image.png](data:image/png;base64,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)\n",
        "\n"
      ],
      "metadata": {
        "id": "MbbUcfvDeUjs"
      }
    },
    {
      "cell_type": "code",
      "source": [
        "class Net(torch.nn.Module):\n",
        "    def __init__(self, n_feature, n_hidden, n_output):\n",
        "        super(Net, self).__init__()\n",
        "        self.features = nn.Sequential(\n",
        "            torch.nn.Flatten(),\n",
        "            torch.nn.Linear(n_feature, n_hidden),\n",
        "            torch.nn.Linear(n_hidden, n_output)\n",
        "        ).to(device)\n",
        "\n",
        "    def forward(self, x):\n",
        "        return self.features(x)\n"
      ],
      "metadata": {
        "id": "IVbIe6JQexoQ"
      },
      "execution_count": 10,
      "outputs": []
    },
    {
      "cell_type": "code",
      "source": [
        "def train(experiment,optimizer_name, epoch,lr,weight_decay):\n",
        "  network.train()\n",
        "  optimizer = torch.optim.SGD(network.parameters(), lr=lr)\n",
        "  targets=torch.LongTensor([target for feature,target in experiment]).to(device)\n",
        "  if optimizer_name=='gd':\n",
        "    predictions=network(experiment.data.to(device).float())\n",
        "    loss = F.nll_loss(predictions, targets)\n",
        "    optimizer.zero_grad()\n",
        "    loss.backward()\n",
        "    optimizer.step()\n",
        "    return loss\n",
        "\n",
        "  elif optimizer_name=='constrained_gd':\n",
        "    predictions=network(experiment.data.to(device).float())\n",
        "    loss = F.nll_loss(predictions, targets)\n",
        "    optimizer.zero_grad()\n",
        "    loss.backward()\n",
        "    optimizer.step()\n",
        "    with torch.no_grad():\n",
        "      for param in network.parameters():\n",
        "          param.clamp_(-1, 1)\n",
        "      \n",
        "    return loss\n",
        "\n",
        "  elif optimizer_name=='regularized_gd':\n",
        "    optimizer = torch.optim.SGD(network.parameters(), lr=lr, weight_decay=weight_decay) \n",
        "    predictions=network(experiment.data.to(device).float())\n",
        "    loss = F.nll_loss(predictions, targets)\n",
        "    optimizer.zero_grad()\n",
        "    loss.backward()\n",
        "    optimizer.step()\n",
        "\n",
        "    return loss\n",
        "\n",
        "  elif optimizer_name=='sgd':\n",
        "    for i in range(len(experiment)):\n",
        "      optimizer.zero_grad()\n",
        "      data,target=experiment[i]\n",
        "      data=data.to(device).float()\n",
        "      target=target.type(torch.LongTensor)\n",
        "      prediction = network(data)\n",
        "      loss = F.nll_loss(prediction, target.to(device))\n",
        "      loss.backward()\n",
        "      optimizer.step()\n",
        "\n",
        "    return loss\n",
        "\n",
        "  else:\n",
        "    raise NotImplementedError(f\"This optimizer:{optimizer} is not impelemtned\")\n",
        "  "
      ],
      "metadata": {
        "id": "cix3bp5hjDSm"
      },
      "execution_count": 15,
      "outputs": []
    },
    {
      "cell_type": "code",
      "source": [
        "device = torch.device('cuda' if torch.cuda.is_available() else 'cpu')\n",
        "print('Using device:', device)\n",
        "\n",
        "\n",
        "n_epochs = 15\n",
        "batch_size_train = 64\n",
        "momentum = 0.5\n",
        "log_interval = 1\n",
        "lrs=[1e-4]\n",
        "weight_decays=[1e-5]\n",
        "\n",
        "random_seed = 1\n",
        "torch.backends.cudnn.enabled = False\n",
        "torch.manual_seed(random_seed)\n",
        "\n",
        "\n",
        "optimizers_names = ['sgd'] \n",
        "experimetns = {\n",
        "    \"zero_to_four_vs_five_to_nine\": mnist_trainset_zero_to_four_vs_five_to_nine,\n",
        "    \"even_vs_odd\": mnist_trainset_even_vs_odd,\n",
        "    \"prime_vs_not_prime\": mnist_trainset_prime_vs_not_prime\n",
        "}\n",
        "\n",
        "for experiment in experimetns:\n",
        "  for optimizer_name in optimizers_names:\n",
        "    for lr in lrs:\n",
        "      for weight_decay in weight_decays:\n",
        "          print(f\"experiment:{experiment} | optimizer_name:{optimizer_name}\")\n",
        "          network = Net(n_feature=784, n_hidden=10, n_output=2)\n",
        "          run=wandb.init(project=\"Final Project in Advanced Lectures in Learning\", entity=\"sagit\", name=f\"experiment:{experiment} | optimizer_name:{optimizer_name} | lr:{lr} | weight_decay:{weight_decay}\")\n",
        "          wandb.watch(network, log_freq=1)\n",
        "          for epoch in range(1, n_epochs + 1):\n",
        "            loss=train(experimetns[experiment],optimizer_name, epoch,lr, weight_decay)\n",
        "            if epoch % log_interval==0:\n",
        "              print(f\"loss:{loss}\")\n",
        "              wandb.log({\n",
        "                  \"loss\": loss,\n",
        "                  \"epoch\": epoch\n",
        "              })"
      ],
      "metadata": {
        "colab": {
          "base_uri": "https://localhost:8080/",
          "height": 662,
          "referenced_widgets": [
            "af848c3f74554d0f9bd3f80eb82c4bc9",
            "ebc123f15fb84c729affc3029616d069",
            "29d72c3fd8164e84b1c8a61af12ebfcb",
            "4be9bbedb9bd48758f6241fa9efae410",
            "0fda837a6b264812a5b8bba8563e4e7d",
            "0fa8a77c83574321bb0f1e92fb7a5587",
            "13d03236303b49b5b4e2f97dafa40a66",
            "fc6c0ad4e0e64273ba748e4334135563"
          ]
        },
        "id": "GqDlwznGi7je",
        "outputId": "96ed9a95-07c2-497e-916c-86e284d4bd89"
      },
      "execution_count": 16,
      "outputs": [
        {
          "output_type": "stream",
          "name": "stdout",
          "text": [
            "Using device: cuda\n",
            "experiment:zero_to_four_vs_five_to_nine | optimizer_name:sgd\n"
          ]
        },
        {
          "output_type": "display_data",
          "data": {
            "text/html": [
              "Finishing last run (ID:1k7lat2b) before initializing another..."
            ],
            "text/plain": [
              "<IPython.core.display.HTML object>"
            ]
          },
          "metadata": {}
        },
        {
          "output_type": "display_data",
          "data": {
            "text/html": [
              "<br/>Waiting for W&B process to finish, PID 795... <strong style=\"color:green\">(success).</strong>"
            ],
            "text/plain": [
              "<IPython.core.display.HTML object>"
            ]
          },
          "metadata": {}
        },
        {
          "output_type": "display_data",
          "data": {
            "application/vnd.jupyter.widget-view+json": {
              "model_id": "af848c3f74554d0f9bd3f80eb82c4bc9",
              "version_minor": 0,
              "version_major": 2
            },
            "text/plain": [
              "VBox(children=(Label(value=' 0.00MB of 0.00MB uploaded (0.00MB deduped)\\r'), FloatProgress(value=1.0, max=1.0)…"
            ]
          },
          "metadata": {}
        },
        {
          "output_type": "display_data",
          "data": {
            "text/html": [
              "<style>\n",
              "    table.wandb td:nth-child(1) { padding: 0 10px; text-align: right }\n",
              "    .wandb-row { display: flex; flex-direction: row; flex-wrap: wrap; width: 100% }\n",
              "    .wandb-col { display: flex; flex-direction: column; flex-basis: 100%; flex: 1; padding: 10px; }\n",
              "    </style>\n",
              "<div class=\"wandb-row\"><div class=\"wandb-col\">\n",
              "</div><div class=\"wandb-col\">\n",
              "</div></div>\n",
              "Synced 5 W&B file(s), 0 media file(s), 0 artifact file(s) and 0 other file(s)\n",
              "<br/>Synced <strong style=\"color:#cdcd00\">experiment:zero_to_four_vs_five_to_nine | optimizer_name:sgd | lr:0.0001 | weight_decay:1e-05</strong>: <a href=\"https://wandb.ai/sagit/Final%20Project%20in%20Advanced%20Lectures%20in%20Learning/runs/1k7lat2b\" target=\"_blank\">https://wandb.ai/sagit/Final%20Project%20in%20Advanced%20Lectures%20in%20Learning/runs/1k7lat2b</a><br/>\n",
              "Find logs at: <code>./wandb/run-20220212_130313-1k7lat2b/logs</code><br/>\n"
            ],
            "text/plain": [
              "<IPython.core.display.HTML object>"
            ]
          },
          "metadata": {}
        },
        {
          "output_type": "display_data",
          "data": {
            "text/html": [
              "Successfully finished last run (ID:1k7lat2b). Initializing new run:<br/>"
            ],
            "text/plain": [
              "<IPython.core.display.HTML object>"
            ]
          },
          "metadata": {}
        },
        {
          "output_type": "display_data",
          "data": {
            "text/html": [
              "\n",
              "                    Syncing run <strong><a href=\"https://wandb.ai/sagit/Final%20Project%20in%20Advanced%20Lectures%20in%20Learning/runs/3dw1s4v6\" target=\"_blank\">experiment:zero_to_four_vs_five_to_nine | optimizer_name:sgd | lr:0.0001 | weight_decay:1e-05</a></strong> to <a href=\"https://wandb.ai/sagit/Final%20Project%20in%20Advanced%20Lectures%20in%20Learning\" target=\"_blank\">Weights & Biases</a> (<a href=\"https://docs.wandb.com/integrations/jupyter.html\" target=\"_blank\">docs</a>).<br/>\n",
              "\n",
              "                "
            ],
            "text/plain": [
              "<IPython.core.display.HTML object>"
            ]
          },
          "metadata": {}
        },
        {
          "output_type": "stream",
          "name": "stdout",
          "text": [
            "loss:-4488642048.0\n",
            "loss:-5.639435600891006e+19\n",
            "loss:-7.085488539087675e+29\n",
            "loss:-inf\n"
          ]
        },
        {
          "output_type": "error",
          "ename": "KeyboardInterrupt",
          "evalue": "ignored",
          "traceback": [
            "\u001b[0;31m---------------------------------------------------------------------------\u001b[0m",
            "\u001b[0;31mKeyboardInterrupt\u001b[0m                         Traceback (most recent call last)",
            "\u001b[0;32m<ipython-input-16-c486c0b0cbd6>\u001b[0m in \u001b[0;36m<module>\u001b[0;34m()\u001b[0m\n\u001b[1;32m     31\u001b[0m           \u001b[0mwandb\u001b[0m\u001b[0;34m.\u001b[0m\u001b[0mwatch\u001b[0m\u001b[0;34m(\u001b[0m\u001b[0mnetwork\u001b[0m\u001b[0;34m,\u001b[0m \u001b[0mlog_freq\u001b[0m\u001b[0;34m=\u001b[0m\u001b[0;36m1\u001b[0m\u001b[0;34m)\u001b[0m\u001b[0;34m\u001b[0m\u001b[0;34m\u001b[0m\u001b[0m\n\u001b[1;32m     32\u001b[0m           \u001b[0;32mfor\u001b[0m \u001b[0mepoch\u001b[0m \u001b[0;32min\u001b[0m \u001b[0mrange\u001b[0m\u001b[0;34m(\u001b[0m\u001b[0;36m1\u001b[0m\u001b[0;34m,\u001b[0m \u001b[0mn_epochs\u001b[0m \u001b[0;34m+\u001b[0m \u001b[0;36m1\u001b[0m\u001b[0;34m)\u001b[0m\u001b[0;34m:\u001b[0m\u001b[0;34m\u001b[0m\u001b[0;34m\u001b[0m\u001b[0m\n\u001b[0;32m---> 33\u001b[0;31m             \u001b[0mloss\u001b[0m\u001b[0;34m=\u001b[0m\u001b[0mtrain\u001b[0m\u001b[0;34m(\u001b[0m\u001b[0mexperimetns\u001b[0m\u001b[0;34m[\u001b[0m\u001b[0mexperiment\u001b[0m\u001b[0;34m]\u001b[0m\u001b[0;34m,\u001b[0m\u001b[0moptimizer_name\u001b[0m\u001b[0;34m,\u001b[0m \u001b[0mepoch\u001b[0m\u001b[0;34m,\u001b[0m\u001b[0mlr\u001b[0m\u001b[0;34m,\u001b[0m \u001b[0mweight_decay\u001b[0m\u001b[0;34m)\u001b[0m\u001b[0;34m\u001b[0m\u001b[0;34m\u001b[0m\u001b[0m\n\u001b[0m\u001b[1;32m     34\u001b[0m             \u001b[0;32mif\u001b[0m \u001b[0mepoch\u001b[0m \u001b[0;34m%\u001b[0m \u001b[0mlog_interval\u001b[0m\u001b[0;34m==\u001b[0m\u001b[0;36m0\u001b[0m\u001b[0;34m:\u001b[0m\u001b[0;34m\u001b[0m\u001b[0;34m\u001b[0m\u001b[0m\n\u001b[1;32m     35\u001b[0m               \u001b[0mprint\u001b[0m\u001b[0;34m(\u001b[0m\u001b[0;34mf\"loss:{loss}\"\u001b[0m\u001b[0;34m)\u001b[0m\u001b[0;34m\u001b[0m\u001b[0;34m\u001b[0m\u001b[0m\n",
            "\u001b[0;32m<ipython-input-15-c3a57329b87f>\u001b[0m in \u001b[0;36mtrain\u001b[0;34m(experiment, optimizer_name, epoch, lr, weight_decay)\u001b[0m\n\u001b[1;32m     39\u001b[0m       \u001b[0mdata\u001b[0m\u001b[0;34m=\u001b[0m\u001b[0mdata\u001b[0m\u001b[0;34m.\u001b[0m\u001b[0mto\u001b[0m\u001b[0;34m(\u001b[0m\u001b[0mdevice\u001b[0m\u001b[0;34m)\u001b[0m\u001b[0;34m.\u001b[0m\u001b[0mfloat\u001b[0m\u001b[0;34m(\u001b[0m\u001b[0;34m)\u001b[0m\u001b[0;34m\u001b[0m\u001b[0;34m\u001b[0m\u001b[0m\n\u001b[1;32m     40\u001b[0m       \u001b[0mtarget\u001b[0m\u001b[0;34m=\u001b[0m\u001b[0mtarget\u001b[0m\u001b[0;34m.\u001b[0m\u001b[0mtype\u001b[0m\u001b[0;34m(\u001b[0m\u001b[0mtorch\u001b[0m\u001b[0;34m.\u001b[0m\u001b[0mLongTensor\u001b[0m\u001b[0;34m)\u001b[0m\u001b[0;34m\u001b[0m\u001b[0;34m\u001b[0m\u001b[0m\n\u001b[0;32m---> 41\u001b[0;31m       \u001b[0mprediction\u001b[0m \u001b[0;34m=\u001b[0m \u001b[0mnetwork\u001b[0m\u001b[0;34m(\u001b[0m\u001b[0mdata\u001b[0m\u001b[0;34m)\u001b[0m\u001b[0;34m\u001b[0m\u001b[0;34m\u001b[0m\u001b[0m\n\u001b[0m\u001b[1;32m     42\u001b[0m       \u001b[0mloss\u001b[0m \u001b[0;34m=\u001b[0m \u001b[0mF\u001b[0m\u001b[0;34m.\u001b[0m\u001b[0mnll_loss\u001b[0m\u001b[0;34m(\u001b[0m\u001b[0mprediction\u001b[0m\u001b[0;34m,\u001b[0m \u001b[0mtarget\u001b[0m\u001b[0;34m.\u001b[0m\u001b[0mto\u001b[0m\u001b[0;34m(\u001b[0m\u001b[0mdevice\u001b[0m\u001b[0;34m)\u001b[0m\u001b[0;34m)\u001b[0m\u001b[0;34m\u001b[0m\u001b[0;34m\u001b[0m\u001b[0m\n\u001b[1;32m     43\u001b[0m       \u001b[0mloss\u001b[0m\u001b[0;34m.\u001b[0m\u001b[0mbackward\u001b[0m\u001b[0;34m(\u001b[0m\u001b[0;34m)\u001b[0m\u001b[0;34m\u001b[0m\u001b[0;34m\u001b[0m\u001b[0m\n",
            "\u001b[0;32m/usr/local/lib/python3.7/dist-packages/torch/nn/modules/module.py\u001b[0m in \u001b[0;36m_call_impl\u001b[0;34m(self, *input, **kwargs)\u001b[0m\n\u001b[1;32m   1100\u001b[0m         if not (self._backward_hooks or self._forward_hooks or self._forward_pre_hooks or _global_backward_hooks\n\u001b[1;32m   1101\u001b[0m                 or _global_forward_hooks or _global_forward_pre_hooks):\n\u001b[0;32m-> 1102\u001b[0;31m             \u001b[0;32mreturn\u001b[0m \u001b[0mforward_call\u001b[0m\u001b[0;34m(\u001b[0m\u001b[0;34m*\u001b[0m\u001b[0minput\u001b[0m\u001b[0;34m,\u001b[0m \u001b[0;34m**\u001b[0m\u001b[0mkwargs\u001b[0m\u001b[0;34m)\u001b[0m\u001b[0;34m\u001b[0m\u001b[0;34m\u001b[0m\u001b[0m\n\u001b[0m\u001b[1;32m   1103\u001b[0m         \u001b[0;31m# Do not call functions when jit is used\u001b[0m\u001b[0;34m\u001b[0m\u001b[0;34m\u001b[0m\u001b[0;34m\u001b[0m\u001b[0m\n\u001b[1;32m   1104\u001b[0m         \u001b[0mfull_backward_hooks\u001b[0m\u001b[0;34m,\u001b[0m \u001b[0mnon_full_backward_hooks\u001b[0m \u001b[0;34m=\u001b[0m \u001b[0;34m[\u001b[0m\u001b[0;34m]\u001b[0m\u001b[0;34m,\u001b[0m \u001b[0;34m[\u001b[0m\u001b[0;34m]\u001b[0m\u001b[0;34m\u001b[0m\u001b[0;34m\u001b[0m\u001b[0m\n",
            "\u001b[0;32m<ipython-input-10-74a8e05d39be>\u001b[0m in \u001b[0;36mforward\u001b[0;34m(self, x)\u001b[0m\n\u001b[1;32m      9\u001b[0m \u001b[0;34m\u001b[0m\u001b[0m\n\u001b[1;32m     10\u001b[0m     \u001b[0;32mdef\u001b[0m \u001b[0mforward\u001b[0m\u001b[0;34m(\u001b[0m\u001b[0mself\u001b[0m\u001b[0;34m,\u001b[0m \u001b[0mx\u001b[0m\u001b[0;34m)\u001b[0m\u001b[0;34m:\u001b[0m\u001b[0;34m\u001b[0m\u001b[0;34m\u001b[0m\u001b[0m\n\u001b[0;32m---> 11\u001b[0;31m         \u001b[0;32mreturn\u001b[0m \u001b[0mself\u001b[0m\u001b[0;34m.\u001b[0m\u001b[0mfeatures\u001b[0m\u001b[0;34m(\u001b[0m\u001b[0mx\u001b[0m\u001b[0;34m)\u001b[0m\u001b[0;34m\u001b[0m\u001b[0;34m\u001b[0m\u001b[0m\n\u001b[0m",
            "\u001b[0;32m/usr/local/lib/python3.7/dist-packages/torch/nn/modules/module.py\u001b[0m in \u001b[0;36m_call_impl\u001b[0;34m(self, *input, **kwargs)\u001b[0m\n\u001b[1;32m   1100\u001b[0m         if not (self._backward_hooks or self._forward_hooks or self._forward_pre_hooks or _global_backward_hooks\n\u001b[1;32m   1101\u001b[0m                 or _global_forward_hooks or _global_forward_pre_hooks):\n\u001b[0;32m-> 1102\u001b[0;31m             \u001b[0;32mreturn\u001b[0m \u001b[0mforward_call\u001b[0m\u001b[0;34m(\u001b[0m\u001b[0;34m*\u001b[0m\u001b[0minput\u001b[0m\u001b[0;34m,\u001b[0m \u001b[0;34m**\u001b[0m\u001b[0mkwargs\u001b[0m\u001b[0;34m)\u001b[0m\u001b[0;34m\u001b[0m\u001b[0;34m\u001b[0m\u001b[0m\n\u001b[0m\u001b[1;32m   1103\u001b[0m         \u001b[0;31m# Do not call functions when jit is used\u001b[0m\u001b[0;34m\u001b[0m\u001b[0;34m\u001b[0m\u001b[0;34m\u001b[0m\u001b[0m\n\u001b[1;32m   1104\u001b[0m         \u001b[0mfull_backward_hooks\u001b[0m\u001b[0;34m,\u001b[0m \u001b[0mnon_full_backward_hooks\u001b[0m \u001b[0;34m=\u001b[0m \u001b[0;34m[\u001b[0m\u001b[0;34m]\u001b[0m\u001b[0;34m,\u001b[0m \u001b[0;34m[\u001b[0m\u001b[0;34m]\u001b[0m\u001b[0;34m\u001b[0m\u001b[0;34m\u001b[0m\u001b[0m\n",
            "\u001b[0;32m/usr/local/lib/python3.7/dist-packages/torch/nn/modules/container.py\u001b[0m in \u001b[0;36mforward\u001b[0;34m(self, input)\u001b[0m\n\u001b[1;32m    139\u001b[0m     \u001b[0;32mdef\u001b[0m \u001b[0mforward\u001b[0m\u001b[0;34m(\u001b[0m\u001b[0mself\u001b[0m\u001b[0;34m,\u001b[0m \u001b[0minput\u001b[0m\u001b[0;34m)\u001b[0m\u001b[0;34m:\u001b[0m\u001b[0;34m\u001b[0m\u001b[0;34m\u001b[0m\u001b[0m\n\u001b[1;32m    140\u001b[0m         \u001b[0;32mfor\u001b[0m \u001b[0mmodule\u001b[0m \u001b[0;32min\u001b[0m \u001b[0mself\u001b[0m\u001b[0;34m:\u001b[0m\u001b[0;34m\u001b[0m\u001b[0;34m\u001b[0m\u001b[0m\n\u001b[0;32m--> 141\u001b[0;31m             \u001b[0minput\u001b[0m \u001b[0;34m=\u001b[0m \u001b[0mmodule\u001b[0m\u001b[0;34m(\u001b[0m\u001b[0minput\u001b[0m\u001b[0;34m)\u001b[0m\u001b[0;34m\u001b[0m\u001b[0;34m\u001b[0m\u001b[0m\n\u001b[0m\u001b[1;32m    142\u001b[0m         \u001b[0;32mreturn\u001b[0m \u001b[0minput\u001b[0m\u001b[0;34m\u001b[0m\u001b[0;34m\u001b[0m\u001b[0m\n\u001b[1;32m    143\u001b[0m \u001b[0;34m\u001b[0m\u001b[0m\n",
            "\u001b[0;32m/usr/local/lib/python3.7/dist-packages/torch/nn/modules/module.py\u001b[0m in \u001b[0;36m_call_impl\u001b[0;34m(self, *input, **kwargs)\u001b[0m\n\u001b[1;32m   1100\u001b[0m         if not (self._backward_hooks or self._forward_hooks or self._forward_pre_hooks or _global_backward_hooks\n\u001b[1;32m   1101\u001b[0m                 or _global_forward_hooks or _global_forward_pre_hooks):\n\u001b[0;32m-> 1102\u001b[0;31m             \u001b[0;32mreturn\u001b[0m \u001b[0mforward_call\u001b[0m\u001b[0;34m(\u001b[0m\u001b[0;34m*\u001b[0m\u001b[0minput\u001b[0m\u001b[0;34m,\u001b[0m \u001b[0;34m**\u001b[0m\u001b[0mkwargs\u001b[0m\u001b[0;34m)\u001b[0m\u001b[0;34m\u001b[0m\u001b[0;34m\u001b[0m\u001b[0m\n\u001b[0m\u001b[1;32m   1103\u001b[0m         \u001b[0;31m# Do not call functions when jit is used\u001b[0m\u001b[0;34m\u001b[0m\u001b[0;34m\u001b[0m\u001b[0;34m\u001b[0m\u001b[0m\n\u001b[1;32m   1104\u001b[0m         \u001b[0mfull_backward_hooks\u001b[0m\u001b[0;34m,\u001b[0m \u001b[0mnon_full_backward_hooks\u001b[0m \u001b[0;34m=\u001b[0m \u001b[0;34m[\u001b[0m\u001b[0;34m]\u001b[0m\u001b[0;34m,\u001b[0m \u001b[0;34m[\u001b[0m\u001b[0;34m]\u001b[0m\u001b[0;34m\u001b[0m\u001b[0;34m\u001b[0m\u001b[0m\n",
            "\u001b[0;32m/usr/local/lib/python3.7/dist-packages/torch/nn/modules/linear.py\u001b[0m in \u001b[0;36mforward\u001b[0;34m(self, input)\u001b[0m\n\u001b[1;32m    101\u001b[0m \u001b[0;34m\u001b[0m\u001b[0m\n\u001b[1;32m    102\u001b[0m     \u001b[0;32mdef\u001b[0m \u001b[0mforward\u001b[0m\u001b[0;34m(\u001b[0m\u001b[0mself\u001b[0m\u001b[0;34m,\u001b[0m \u001b[0minput\u001b[0m\u001b[0;34m:\u001b[0m \u001b[0mTensor\u001b[0m\u001b[0;34m)\u001b[0m \u001b[0;34m->\u001b[0m \u001b[0mTensor\u001b[0m\u001b[0;34m:\u001b[0m\u001b[0;34m\u001b[0m\u001b[0;34m\u001b[0m\u001b[0m\n\u001b[0;32m--> 103\u001b[0;31m         \u001b[0;32mreturn\u001b[0m \u001b[0mF\u001b[0m\u001b[0;34m.\u001b[0m\u001b[0mlinear\u001b[0m\u001b[0;34m(\u001b[0m\u001b[0minput\u001b[0m\u001b[0;34m,\u001b[0m \u001b[0mself\u001b[0m\u001b[0;34m.\u001b[0m\u001b[0mweight\u001b[0m\u001b[0;34m,\u001b[0m \u001b[0mself\u001b[0m\u001b[0;34m.\u001b[0m\u001b[0mbias\u001b[0m\u001b[0;34m)\u001b[0m\u001b[0;34m\u001b[0m\u001b[0;34m\u001b[0m\u001b[0m\n\u001b[0m\u001b[1;32m    104\u001b[0m \u001b[0;34m\u001b[0m\u001b[0m\n\u001b[1;32m    105\u001b[0m     \u001b[0;32mdef\u001b[0m \u001b[0mextra_repr\u001b[0m\u001b[0;34m(\u001b[0m\u001b[0mself\u001b[0m\u001b[0;34m)\u001b[0m \u001b[0;34m->\u001b[0m \u001b[0mstr\u001b[0m\u001b[0;34m:\u001b[0m\u001b[0;34m\u001b[0m\u001b[0;34m\u001b[0m\u001b[0m\n",
            "\u001b[0;32m/usr/local/lib/python3.7/dist-packages/torch/nn/functional.py\u001b[0m in \u001b[0;36mlinear\u001b[0;34m(input, weight, bias)\u001b[0m\n\u001b[1;32m   1846\u001b[0m     \u001b[0;32mif\u001b[0m \u001b[0mhas_torch_function_variadic\u001b[0m\u001b[0;34m(\u001b[0m\u001b[0minput\u001b[0m\u001b[0;34m,\u001b[0m \u001b[0mweight\u001b[0m\u001b[0;34m,\u001b[0m \u001b[0mbias\u001b[0m\u001b[0;34m)\u001b[0m\u001b[0;34m:\u001b[0m\u001b[0;34m\u001b[0m\u001b[0;34m\u001b[0m\u001b[0m\n\u001b[1;32m   1847\u001b[0m         \u001b[0;32mreturn\u001b[0m \u001b[0mhandle_torch_function\u001b[0m\u001b[0;34m(\u001b[0m\u001b[0mlinear\u001b[0m\u001b[0;34m,\u001b[0m \u001b[0;34m(\u001b[0m\u001b[0minput\u001b[0m\u001b[0;34m,\u001b[0m \u001b[0mweight\u001b[0m\u001b[0;34m,\u001b[0m \u001b[0mbias\u001b[0m\u001b[0;34m)\u001b[0m\u001b[0;34m,\u001b[0m \u001b[0minput\u001b[0m\u001b[0;34m,\u001b[0m \u001b[0mweight\u001b[0m\u001b[0;34m,\u001b[0m \u001b[0mbias\u001b[0m\u001b[0;34m=\u001b[0m\u001b[0mbias\u001b[0m\u001b[0;34m)\u001b[0m\u001b[0;34m\u001b[0m\u001b[0;34m\u001b[0m\u001b[0m\n\u001b[0;32m-> 1848\u001b[0;31m     \u001b[0;32mreturn\u001b[0m \u001b[0mtorch\u001b[0m\u001b[0;34m.\u001b[0m\u001b[0m_C\u001b[0m\u001b[0;34m.\u001b[0m\u001b[0m_nn\u001b[0m\u001b[0;34m.\u001b[0m\u001b[0mlinear\u001b[0m\u001b[0;34m(\u001b[0m\u001b[0minput\u001b[0m\u001b[0;34m,\u001b[0m \u001b[0mweight\u001b[0m\u001b[0;34m,\u001b[0m \u001b[0mbias\u001b[0m\u001b[0;34m)\u001b[0m\u001b[0;34m\u001b[0m\u001b[0;34m\u001b[0m\u001b[0m\n\u001b[0m\u001b[1;32m   1849\u001b[0m \u001b[0;34m\u001b[0m\u001b[0m\n\u001b[1;32m   1850\u001b[0m \u001b[0;34m\u001b[0m\u001b[0m\n",
            "\u001b[0;31mKeyboardInterrupt\u001b[0m: "
          ]
        }
      ]
    },
    {
      "cell_type": "code",
      "source": [
        ""
      ],
      "metadata": {
        "id": "XsIQ-A64kfcK"
      },
      "execution_count": null,
      "outputs": []
    }
  ]
}