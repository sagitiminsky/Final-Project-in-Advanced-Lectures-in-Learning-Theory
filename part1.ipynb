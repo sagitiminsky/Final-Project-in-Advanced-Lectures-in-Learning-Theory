{
  "nbformat": 4,
  "nbformat_minor": 0,
  "metadata": {
    "colab": {
      "name": "part1",
      "provenance": [],
      "collapsed_sections": [],
      "authorship_tag": "ABX9TyNWZLHlPE4gD3bQhsqKrG3f",
      "include_colab_link": true
    },
    "kernelspec": {
      "name": "python3",
      "display_name": "Python 3"
    },
    "language_info": {
      "name": "python"
    },
    "widgets": {
      "application/vnd.jupyter.widget-state+json": {
        "64f135ad376f41c3ad05d5e0d45fa713": {
          "model_module": "@jupyter-widgets/controls",
          "model_name": "VBoxModel",
          "model_module_version": "1.5.0",
          "state": {
            "_view_name": "VBoxView",
            "_dom_classes": [],
            "_model_name": "VBoxModel",
            "_view_module": "@jupyter-widgets/controls",
            "_model_module_version": "1.5.0",
            "_view_count": null,
            "_view_module_version": "1.5.0",
            "box_style": "",
            "layout": "IPY_MODEL_edcc1993f0954773ba2fc581041df2e7",
            "_model_module": "@jupyter-widgets/controls",
            "children": [
              "IPY_MODEL_b54fe0e2e1c94042b9a872a01a4dc911",
              "IPY_MODEL_415dc6219be0483ab28c2b2b375b8865"
            ]
          }
        },
        "edcc1993f0954773ba2fc581041df2e7": {
          "model_module": "@jupyter-widgets/base",
          "model_name": "LayoutModel",
          "model_module_version": "1.2.0",
          "state": {
            "_view_name": "LayoutView",
            "grid_template_rows": null,
            "right": null,
            "justify_content": null,
            "_view_module": "@jupyter-widgets/base",
            "overflow": null,
            "_model_module_version": "1.2.0",
            "_view_count": null,
            "flex_flow": null,
            "width": null,
            "min_width": null,
            "border": null,
            "align_items": null,
            "bottom": null,
            "_model_module": "@jupyter-widgets/base",
            "top": null,
            "grid_column": null,
            "overflow_y": null,
            "overflow_x": null,
            "grid_auto_flow": null,
            "grid_area": null,
            "grid_template_columns": null,
            "flex": null,
            "_model_name": "LayoutModel",
            "justify_items": null,
            "grid_row": null,
            "max_height": null,
            "align_content": null,
            "visibility": null,
            "align_self": null,
            "height": null,
            "min_height": null,
            "padding": null,
            "grid_auto_rows": null,
            "grid_gap": null,
            "max_width": null,
            "order": null,
            "_view_module_version": "1.2.0",
            "grid_template_areas": null,
            "object_position": null,
            "object_fit": null,
            "grid_auto_columns": null,
            "margin": null,
            "display": null,
            "left": null
          }
        },
        "b54fe0e2e1c94042b9a872a01a4dc911": {
          "model_module": "@jupyter-widgets/controls",
          "model_name": "LabelModel",
          "model_module_version": "1.5.0",
          "state": {
            "_view_name": "LabelView",
            "style": "IPY_MODEL_0806cf50ce3947549529a51887ae4373",
            "_dom_classes": [],
            "description": "",
            "_model_name": "LabelModel",
            "placeholder": "​",
            "_view_module": "@jupyter-widgets/controls",
            "_model_module_version": "1.5.0",
            "value": " 0.01MB of 0.01MB uploaded (0.00MB deduped)\r",
            "_view_count": null,
            "_view_module_version": "1.5.0",
            "description_tooltip": null,
            "_model_module": "@jupyter-widgets/controls",
            "layout": "IPY_MODEL_46463466fd844a55bd46df8597bdd0dd"
          }
        },
        "415dc6219be0483ab28c2b2b375b8865": {
          "model_module": "@jupyter-widgets/controls",
          "model_name": "FloatProgressModel",
          "model_module_version": "1.5.0",
          "state": {
            "_view_name": "ProgressView",
            "style": "IPY_MODEL_975570098b934baa9b15e77edf1a2703",
            "_dom_classes": [],
            "description": "",
            "_model_name": "FloatProgressModel",
            "bar_style": "",
            "max": 1,
            "_view_module": "@jupyter-widgets/controls",
            "_model_module_version": "1.5.0",
            "value": 1,
            "_view_count": null,
            "_view_module_version": "1.5.0",
            "orientation": "horizontal",
            "min": 0,
            "description_tooltip": null,
            "_model_module": "@jupyter-widgets/controls",
            "layout": "IPY_MODEL_5d6ea75dbd634dec83ed3528f8f0d72d"
          }
        },
        "0806cf50ce3947549529a51887ae4373": {
          "model_module": "@jupyter-widgets/controls",
          "model_name": "DescriptionStyleModel",
          "model_module_version": "1.5.0",
          "state": {
            "_view_name": "StyleView",
            "_model_name": "DescriptionStyleModel",
            "description_width": "",
            "_view_module": "@jupyter-widgets/base",
            "_model_module_version": "1.5.0",
            "_view_count": null,
            "_view_module_version": "1.2.0",
            "_model_module": "@jupyter-widgets/controls"
          }
        },
        "46463466fd844a55bd46df8597bdd0dd": {
          "model_module": "@jupyter-widgets/base",
          "model_name": "LayoutModel",
          "model_module_version": "1.2.0",
          "state": {
            "_view_name": "LayoutView",
            "grid_template_rows": null,
            "right": null,
            "justify_content": null,
            "_view_module": "@jupyter-widgets/base",
            "overflow": null,
            "_model_module_version": "1.2.0",
            "_view_count": null,
            "flex_flow": null,
            "width": null,
            "min_width": null,
            "border": null,
            "align_items": null,
            "bottom": null,
            "_model_module": "@jupyter-widgets/base",
            "top": null,
            "grid_column": null,
            "overflow_y": null,
            "overflow_x": null,
            "grid_auto_flow": null,
            "grid_area": null,
            "grid_template_columns": null,
            "flex": null,
            "_model_name": "LayoutModel",
            "justify_items": null,
            "grid_row": null,
            "max_height": null,
            "align_content": null,
            "visibility": null,
            "align_self": null,
            "height": null,
            "min_height": null,
            "padding": null,
            "grid_auto_rows": null,
            "grid_gap": null,
            "max_width": null,
            "order": null,
            "_view_module_version": "1.2.0",
            "grid_template_areas": null,
            "object_position": null,
            "object_fit": null,
            "grid_auto_columns": null,
            "margin": null,
            "display": null,
            "left": null
          }
        },
        "975570098b934baa9b15e77edf1a2703": {
          "model_module": "@jupyter-widgets/controls",
          "model_name": "ProgressStyleModel",
          "model_module_version": "1.5.0",
          "state": {
            "_view_name": "StyleView",
            "_model_name": "ProgressStyleModel",
            "description_width": "",
            "_view_module": "@jupyter-widgets/base",
            "_model_module_version": "1.5.0",
            "_view_count": null,
            "_view_module_version": "1.2.0",
            "bar_color": null,
            "_model_module": "@jupyter-widgets/controls"
          }
        },
        "5d6ea75dbd634dec83ed3528f8f0d72d": {
          "model_module": "@jupyter-widgets/base",
          "model_name": "LayoutModel",
          "model_module_version": "1.2.0",
          "state": {
            "_view_name": "LayoutView",
            "grid_template_rows": null,
            "right": null,
            "justify_content": null,
            "_view_module": "@jupyter-widgets/base",
            "overflow": null,
            "_model_module_version": "1.2.0",
            "_view_count": null,
            "flex_flow": null,
            "width": null,
            "min_width": null,
            "border": null,
            "align_items": null,
            "bottom": null,
            "_model_module": "@jupyter-widgets/base",
            "top": null,
            "grid_column": null,
            "overflow_y": null,
            "overflow_x": null,
            "grid_auto_flow": null,
            "grid_area": null,
            "grid_template_columns": null,
            "flex": null,
            "_model_name": "LayoutModel",
            "justify_items": null,
            "grid_row": null,
            "max_height": null,
            "align_content": null,
            "visibility": null,
            "align_self": null,
            "height": null,
            "min_height": null,
            "padding": null,
            "grid_auto_rows": null,
            "grid_gap": null,
            "max_width": null,
            "order": null,
            "_view_module_version": "1.2.0",
            "grid_template_areas": null,
            "object_position": null,
            "object_fit": null,
            "grid_auto_columns": null,
            "margin": null,
            "display": null,
            "left": null
          }
        }
      }
    }
  },
  "cells": [
    {
      "cell_type": "markdown",
      "metadata": {
        "id": "view-in-github",
        "colab_type": "text"
      },
      "source": [
        "<a href=\"https://colab.research.google.com/github/sagitiminsky/Final-Project-in-Advanced-Lectures-in-Learning-Theory/blob/part1/part1.ipynb\" target=\"_parent\"><img src=\"https://colab.research.google.com/assets/colab-badge.svg\" alt=\"Open In Colab\"/></a>"
      ]
    },
    {
      "cell_type": "markdown",
      "source": [
        "# Imports"
      ],
      "metadata": {
        "id": "XQp5qWm-l0lT"
      }
    },
    {
      "cell_type": "code",
      "source": [
        "import torchvision.datasets as datasets\n",
        "import torch\n",
        "import torchvision.transforms\n",
        "import copy\n",
        "!pip3 install wandb\n",
        "!wandb login\n",
        "import wandb\n",
        "import torch.nn as nn\n",
        "import torch.nn.functional as F\n",
        "import torch.optim as optim"
      ],
      "metadata": {
        "id": "nr1zFGF6l5Pc",
        "colab": {
          "base_uri": "https://localhost:8080/"
        },
        "outputId": "cee369ed-4349-4d4b-ffdc-137d9d6ab1c4"
      },
      "execution_count": 26,
      "outputs": [
        {
          "output_type": "stream",
          "name": "stdout",
          "text": [
            "Requirement already satisfied: wandb in /usr/local/lib/python3.7/dist-packages (0.12.10)\n",
            "Requirement already satisfied: python-dateutil>=2.6.1 in /usr/local/lib/python3.7/dist-packages (from wandb) (2.8.2)\n",
            "Requirement already satisfied: promise<3,>=2.0 in /usr/local/lib/python3.7/dist-packages (from wandb) (2.3)\n",
            "Requirement already satisfied: shortuuid>=0.5.0 in /usr/local/lib/python3.7/dist-packages (from wandb) (1.0.8)\n",
            "Requirement already satisfied: six>=1.13.0 in /usr/local/lib/python3.7/dist-packages (from wandb) (1.15.0)\n",
            "Requirement already satisfied: GitPython>=1.0.0 in /usr/local/lib/python3.7/dist-packages (from wandb) (3.1.26)\n",
            "Requirement already satisfied: PyYAML in /usr/local/lib/python3.7/dist-packages (from wandb) (3.13)\n",
            "Requirement already satisfied: Click!=8.0.0,>=7.0 in /usr/local/lib/python3.7/dist-packages (from wandb) (7.1.2)\n",
            "Requirement already satisfied: pathtools in /usr/local/lib/python3.7/dist-packages (from wandb) (0.1.2)\n",
            "Requirement already satisfied: psutil>=5.0.0 in /usr/local/lib/python3.7/dist-packages (from wandb) (5.4.8)\n",
            "Requirement already satisfied: protobuf>=3.12.0 in /usr/local/lib/python3.7/dist-packages (from wandb) (3.17.3)\n",
            "Requirement already satisfied: requests<3,>=2.0.0 in /usr/local/lib/python3.7/dist-packages (from wandb) (2.23.0)\n",
            "Requirement already satisfied: docker-pycreds>=0.4.0 in /usr/local/lib/python3.7/dist-packages (from wandb) (0.4.0)\n",
            "Requirement already satisfied: yaspin>=1.0.0 in /usr/local/lib/python3.7/dist-packages (from wandb) (2.1.0)\n",
            "Requirement already satisfied: sentry-sdk>=1.0.0 in /usr/local/lib/python3.7/dist-packages (from wandb) (1.5.4)\n",
            "Requirement already satisfied: gitdb<5,>=4.0.1 in /usr/local/lib/python3.7/dist-packages (from GitPython>=1.0.0->wandb) (4.0.9)\n",
            "Requirement already satisfied: typing-extensions>=3.7.4.3 in /usr/local/lib/python3.7/dist-packages (from GitPython>=1.0.0->wandb) (3.10.0.2)\n",
            "Requirement already satisfied: smmap<6,>=3.0.1 in /usr/local/lib/python3.7/dist-packages (from gitdb<5,>=4.0.1->GitPython>=1.0.0->wandb) (5.0.0)\n",
            "Requirement already satisfied: chardet<4,>=3.0.2 in /usr/local/lib/python3.7/dist-packages (from requests<3,>=2.0.0->wandb) (3.0.4)\n",
            "Requirement already satisfied: certifi>=2017.4.17 in /usr/local/lib/python3.7/dist-packages (from requests<3,>=2.0.0->wandb) (2021.10.8)\n",
            "Requirement already satisfied: idna<3,>=2.5 in /usr/local/lib/python3.7/dist-packages (from requests<3,>=2.0.0->wandb) (2.10)\n",
            "Requirement already satisfied: urllib3!=1.25.0,!=1.25.1,<1.26,>=1.21.1 in /usr/local/lib/python3.7/dist-packages (from requests<3,>=2.0.0->wandb) (1.24.3)\n",
            "Requirement already satisfied: termcolor<2.0.0,>=1.1.0 in /usr/local/lib/python3.7/dist-packages (from yaspin>=1.0.0->wandb) (1.1.0)\n",
            "\u001b[34m\u001b[1mwandb\u001b[0m: Currently logged in as: \u001b[33msagit\u001b[0m (use `wandb login --relogin` to force relogin)\n"
          ]
        }
      ]
    },
    {
      "cell_type": "markdown",
      "source": [
        "# Sources\n",
        "\n",
        "\n",
        "1.   GD - https://www.linkedin.com/pulse/pytorch-gradient-descent-stochastic-mini-batch-code-sobh-phd/\n",
        "2.  Constrained GD - https://botorch.org/tutorials/optimize_stochastic\n",
        "\n"
      ],
      "metadata": {
        "id": "rtg8c0EyBeRj"
      }
    },
    {
      "cell_type": "markdown",
      "source": [
        "# Connect to Drive"
      ],
      "metadata": {
        "id": "LmsW6UHfoi0r"
      }
    },
    {
      "cell_type": "code",
      "source": [
        "from google.colab import drive\n",
        "drive.mount('/content/drive')"
      ],
      "metadata": {
        "colab": {
          "base_uri": "https://localhost:8080/"
        },
        "id": "2KLgJxQkoqNV",
        "outputId": "433a0f0b-66a7-4363-d6e4-4c4e0f0d3910"
      },
      "execution_count": 2,
      "outputs": [
        {
          "output_type": "stream",
          "name": "stdout",
          "text": [
            "Drive already mounted at /content/drive; to attempt to forcibly remount, call drive.mount(\"/content/drive\", force_remount=True).\n"
          ]
        }
      ]
    },
    {
      "cell_type": "code",
      "source": [
        "root=\"/content/drive/MyDrive/university/Masters/datasets\""
      ],
      "metadata": {
        "id": "B4bI2jNDpiYs"
      },
      "execution_count": 3,
      "outputs": []
    },
    {
      "cell_type": "markdown",
      "source": [
        "# Import MNIST Dataset\n",
        "\n",
        "\n",
        "*   According to the assignment, we should construct one big data set (which you will later divide to train-test by our selves.\n",
        "*   We will preform the following transformations: Flip the image horizontally and then rotate it 90 degrees anti-clockwise. Without if the images are not alligend correctly which might suboptimal results in run-time (We assume that the images proviveded in run time are alligned correctly)\n",
        "\n",
        "\n"
      ],
      "metadata": {
        "id": "lTjZ5XkQllUC"
      }
    },
    {
      "cell_type": "code",
      "source": [
        "transform=torchvision.transforms.Compose([\n",
        "                    lambda img: torchvision.transforms.functional.rotate(img, -90),\n",
        "                    lambda img: torchvision.transforms.functional.hflip(img)\n",
        "                ])\n",
        "\n",
        "mnist_trainset = datasets.EMNIST(root=root, train=True, split=\"mnist\",download=True, transform=transform)\n",
        "mnist_testset = datasets.EMNIST(root=root, train=False, split=\"mnist\",download=True, transform=transform)\n",
        "\n",
        "mnist_dataset=mnist_trainset + mnist_testset"
      ],
      "metadata": {
        "id": "isIoQD3dlr9L"
      },
      "execution_count": 4,
      "outputs": []
    },
    {
      "cell_type": "code",
      "source": [
        "def visualize_a_few_samples(dataset,n):\n",
        "  for i in range(n):\n",
        "    train_image_sample, train_target_sample = dataset[i]\n",
        "    display(train_image_sample)\n",
        "    print(f'GT: {train_target_sample}')\n",
        "    print(f'size: {train_image_sample.size}')\n",
        "\n",
        "visualize_a_few_samples(mnist_dataset,5)"
      ],
      "metadata": {
        "colab": {
          "base_uri": "https://localhost:8080/",
          "height": 331
        },
        "id": "2OeUJ67lvCla",
        "outputId": "9ff4a074-417e-46dd-e9ba-b84725be80f5"
      },
      "execution_count": 5,
      "outputs": [
        {
          "output_type": "display_data",
          "data": {
            "image/png": "[encoded data removed]",
            "text/plain": [
              "<PIL.Image.Image image mode=L size=28x28 at 0x7F1395E8BED0>"
            ]
          },
          "metadata": {}
        },
        {
          "output_type": "stream",
          "name": "stdout",
          "text": [
            "GT: 4\n",
            "size: (28, 28)\n"
          ]
        },
        {
          "output_type": "display_data",
          "data": {
            "image/png": "[encoded data removed]",
            "text/plain": [
              "<PIL.Image.Image image mode=L size=28x28 at 0x7F13956BAA50>"
            ]
          },
          "metadata": {}
        },
        {
          "output_type": "stream",
          "name": "stdout",
          "text": [
            "GT: 1\n",
            "size: (28, 28)\n"
          ]
        },
        {
          "output_type": "display_data",
          "data": {
            "image/png": "[encoded data removed]",
            "text/plain": [
              "<PIL.Image.Image image mode=L size=28x28 at 0x7F13956B6710>"
            ]
          },
          "metadata": {}
        },
        {
          "output_type": "stream",
          "name": "stdout",
          "text": [
            "GT: 4\n",
            "size: (28, 28)\n"
          ]
        },
        {
          "output_type": "display_data",
          "data": {
            "image/png": "[encoded data removed]",
            "text/plain": [
              "<PIL.Image.Image image mode=L size=28x28 at 0x7F13956B6B10>"
            ]
          },
          "metadata": {}
        },
        {
          "output_type": "stream",
          "name": "stdout",
          "text": [
            "GT: 1\n",
            "size: (28, 28)\n"
          ]
        },
        {
          "output_type": "display_data",
          "data": {
            "image/png": "[encoded data removed]",
            "text/plain": [
              "<PIL.Image.Image image mode=L size=28x28 at 0x7F1395E82F10>"
            ]
          },
          "metadata": {}
        },
        {
          "output_type": "stream",
          "name": "stdout",
          "text": [
            "GT: 6\n",
            "size: (28, 28)\n"
          ]
        }
      ]
    },
    {
      "cell_type": "markdown",
      "source": [
        "# Preprocessing and creting 3 different classification problems\n",
        "\n",
        "The values 0.1307 and 0.3081 used for the Normalize() transformation below are the global mean and standard deviation of the MNIST dataset, we'll take them as a given here."
      ],
      "metadata": {
        "id": "KPDgjS19HdNG"
      }
    },
    {
      "cell_type": "code",
      "source": [
        "transform=torchvision.transforms.Compose([\n",
        "                    lambda img: torchvision.transforms.functional.rotate(img, -90),\n",
        "                    lambda img: torchvision.transforms.functional.hflip(img),\n",
        "                    torchvision.transforms.ToTensor(),\n",
        "                    torchvision.transforms.Normalize((0.1307,), (0.3081,)),\n",
        "                    lambda x: torch.flatten(x)\n",
        "                ])"
      ],
      "metadata": {
        "id": "LG-R3C8j4Gce"
      },
      "execution_count": 83,
      "outputs": []
    },
    {
      "cell_type": "code",
      "source": [
        "#we assign the label 0 to all examples labeled [0,1,2,3,4] and the label 1 to all examples labeled [5,6,7,8,9]\n",
        "\n",
        "def zero_to_four_vs_five_to_nine(number):\n",
        "  if number>=0 and number<=4:\n",
        "    res=0\n",
        "  elif number>=5 and number<=9:\n",
        "     res=1\n",
        "  else:\n",
        "    raise Exception(f\"{number} is not a valid target in the dataset\")\n",
        "\n",
        "  return res\n",
        "\n",
        "mnist_trainset_zero_to_four_vs_five_to_nine = datasets.EMNIST(root=root, train=True, split=\"mnist\",download=True, transform=transform, target_transform=zero_to_four_vs_five_to_nine)\n",
        "mnist_testset_zero_to_four_vs_five_to_nine = datasets.EMNIST(root=root, train=False, split=\"mnist\",download=True, transform=transform, target_transform=zero_to_four_vs_five_to_nine)\n",
        "\n",
        "mnist_dataset_zero_to_four_vs_five_to_nine = mnist_trainset_zero_to_four_vs_five_to_nine + mnist_testset_zero_to_four_vs_five_to_nine\n",
        "\n",
        "#visualize_a_few_samples(mnist_dataset_zero_to_four_vs_five_to_nine, 5)"
      ],
      "metadata": {
        "id": "_EnujD1pHh1h"
      },
      "execution_count": 84,
      "outputs": []
    },
    {
      "cell_type": "code",
      "source": [
        "#we assign the lable 1 to even numbers, and the label 0 to odd numbers\n",
        "def even_vs_odd(number):\n",
        "  if number>=0 and number<=9:\n",
        "    res=number%2\n",
        "  else:\n",
        "    raise Exception(f\"{number} is not a valid target in the dataset\")\n",
        "\n",
        "  return res\n",
        "\n",
        "mnist_trainset_even_vs_odd = datasets.EMNIST(root=root, train=True, split=\"mnist\",download=True, transform=transform, target_transform=even_vs_odd)\n",
        "mnist_testset_even_vs_odd = datasets.EMNIST(root=root, train=False, split=\"mnist\",download=True, transform=transform, target_transform=even_vs_odd)\n",
        "\n",
        "mnist_dataset_even_vs_odd = mnist_trainset_even_vs_odd + mnist_testset_even_vs_odd\n",
        "\n",
        "#visualize_a_few_samples(mnist_dataset_even_vs_odd, 5)"
      ],
      "metadata": {
        "id": "4P0IM1RjH28j"
      },
      "execution_count": 85,
      "outputs": []
    },
    {
      "cell_type": "code",
      "source": [
        "#we assign the lable 1 to primary numbers, and the label 0 to non primary numbers\n",
        "def prime_vs_not_prime(number):\n",
        "  is_prime=[1,2,3,5,7]\n",
        "  if number>=0 and number<=9:\n",
        "    if number in is_prime:\n",
        "      return 1\n",
        "    else:\n",
        "      return 0\n",
        "  else:\n",
        "    raise Exception(f\"{number} is not a valid target in the dataset\")\n",
        "\n",
        "\n",
        "mnist_trainset_prime_vs_not_prime = datasets.EMNIST(root=root, train=True, split=\"mnist\",download=True, transform=transform, target_transform=prime_vs_not_prime)\n",
        "mnist_testset_prime_vs_not_prime = datasets.EMNIST(root=root, train=False, split=\"mnist\",download=True, transform=transform, target_transform=prime_vs_not_prime)\n",
        "\n",
        "mnist_dataset_prime_vs_not_prime = mnist_trainset_prime_vs_not_prime + mnist_testset_prime_vs_not_prime\n",
        "\n",
        "#visualize_a_few_samples(mnist_dataset_prime_vs_not_prime, 5)\n",
        "\n"
      ],
      "metadata": {
        "id": "uCg3FXVOIEi9"
      },
      "execution_count": 86,
      "outputs": []
    },
    {
      "cell_type": "markdown",
      "source": [
        "# Experiment A: Optimization\n",
        "*   In order to keep our experiments clean and tidy, we are going to visualize them in WandB\n",
        "*   As mentioned we are going to use only the traning set in this section for each classification problem\n",
        "\n"
      ],
      "metadata": {
        "id": "B9OwpZD3X0uJ"
      }
    },
    {
      "cell_type": "code",
      "source": [
        "wandb.init(project=\"Final Project in Advanced Lectures in Learning\", entity=\"sagit\")"
      ],
      "metadata": {
        "colab": {
          "base_uri": "https://localhost:8080/",
          "height": 197,
          "referenced_widgets": [
            "64f135ad376f41c3ad05d5e0d45fa713",
            "edcc1993f0954773ba2fc581041df2e7",
            "b54fe0e2e1c94042b9a872a01a4dc911",
            "415dc6219be0483ab28c2b2b375b8865",
            "0806cf50ce3947549529a51887ae4373",
            "46463466fd844a55bd46df8597bdd0dd",
            "975570098b934baa9b15e77edf1a2703",
            "5d6ea75dbd634dec83ed3528f8f0d72d"
          ]
        },
        "id": "xs--RzvZaDpL",
        "outputId": "9a8b4611-f68b-4909-fc1f-9e8c13c7e07c"
      },
      "execution_count": 25,
      "outputs": [
        {
          "output_type": "display_data",
          "data": {
            "text/html": [
              "Finishing last run (ID:3hjxltkr) before initializing another..."
            ],
            "text/plain": [
              "<IPython.core.display.HTML object>"
            ]
          },
          "metadata": {}
        },
        {
          "output_type": "display_data",
          "data": {
            "text/html": [
              "<br/>Waiting for W&B process to finish, PID 1665... <strong style=\"color:green\">(success).</strong>"
            ],
            "text/plain": [
              "<IPython.core.display.HTML object>"
            ]
          },
          "metadata": {}
        },
        {
          "output_type": "display_data",
          "data": {
            "application/vnd.jupyter.widget-view+json": {
              "model_id": "64f135ad376f41c3ad05d5e0d45fa713",
              "version_minor": 0,
              "version_major": 2
            },
            "text/plain": [
              "VBox(children=(Label(value=' 0.00MB of 0.00MB uploaded (0.00MB deduped)\\r'), FloatProgress(value=1.0, max=1.0)…"
            ]
          },
          "metadata": {}
        },
        {
          "output_type": "display_data",
          "data": {
            "text/html": [
              "<style>\n",
              "    table.wandb td:nth-child(1) { padding: 0 10px; text-align: right }\n",
              "    .wandb-row { display: flex; flex-direction: row; flex-wrap: wrap; width: 100% }\n",
              "    .wandb-col { display: flex; flex-direction: column; flex-basis: 100%; flex: 1; padding: 10px; }\n",
              "    </style>\n",
              "<div class=\"wandb-row\"><div class=\"wandb-col\">\n",
              "</div><div class=\"wandb-col\">\n",
              "</div></div>\n",
              "Synced 4 W&B file(s), 0 media file(s), 0 artifact file(s) and 0 other file(s)\n",
              "<br/>Synced <strong style=\"color:#cdcd00\">rural-voice-2</strong>: <a href=\"https://wandb.ai/sagit/Final%20Project%20in%20Advanced%20Lectures%20in%20Learning/runs/3hjxltkr\" target=\"_blank\">https://wandb.ai/sagit/Final%20Project%20in%20Advanced%20Lectures%20in%20Learning/runs/3hjxltkr</a><br/>\n",
              "Find logs at: <code>./wandb/run-20220205_102530-3hjxltkr/logs</code><br/>\n"
            ],
            "text/plain": [
              "<IPython.core.display.HTML object>"
            ]
          },
          "metadata": {}
        },
        {
          "output_type": "display_data",
          "data": {
            "text/html": [
              "Successfully finished last run (ID:3hjxltkr). Initializing new run:<br/>"
            ],
            "text/plain": [
              "<IPython.core.display.HTML object>"
            ]
          },
          "metadata": {}
        },
        {
          "output_type": "display_data",
          "data": {
            "text/html": [
              "\n",
              "                    Syncing run <strong><a href=\"https://wandb.ai/sagit/Final%20Project%20in%20Advanced%20Lectures%20in%20Learning/runs/y02kf0vp\" target=\"_blank\">fluent-mountain-3</a></strong> to <a href=\"https://wandb.ai/sagit/Final%20Project%20in%20Advanced%20Lectures%20in%20Learning\" target=\"_blank\">Weights & Biases</a> (<a href=\"https://docs.wandb.com/integrations/jupyter.html\" target=\"_blank\">docs</a>).<br/>\n",
              "\n",
              "                "
            ],
            "text/plain": [
              "<IPython.core.display.HTML object>"
            ]
          },
          "metadata": {}
        },
        {
          "output_type": "execute_result",
          "data": {
            "text/plain": [
              "<wandb.sdk.wandb_run.Run at 0x7f13931fad10>"
            ],
            "text/html": [
              "<button onClick=\"this.nextSibling.style.display='block';this.style.display='none';\">Display W&B run</button><iframe src=\"https://wandb.ai/sagit/Final%20Project%20in%20Advanced%20Lectures%20in%20Learning/runs/y02kf0vp?jupyter=true\" style=\"border:none;width:100%;height:420px;display:none;\"></iframe>"
            ]
          },
          "metadata": {},
          "execution_count": 25
        }
      ]
    },
    {
      "cell_type": "markdown",
      "source": [
        "Using the lecture notes and what we studied in class, choose “theoretically justified” learning rates and other parameters (such as λ in\n",
        "regularized GD). State your choice and provide the justification.\n"
      ],
      "metadata": {
        "id": "LlZSVg07d6gR"
      }
    },
    {
      "cell_type": "markdown",
      "source": [
        "**Answer:**\n",
        "One of the most important parameters to select is the learning rate. Adapting the learning rate on trainer init and as the model trains can reduce training time and avoiding local minimums.\n",
        "\n",
        "*   The common approach is to start with a small learning rate and increase it exponentially if two apochs in a row reduce the rror.\n",
        "*   Another approach relies on gradient direction - again we start with a small learning rate but this time we increase it if for two epochs in row the gradient direction is similar, otherwise decrease it if the direcctions differs.\n",
        "\n",
        "Two other important parametrs are the depth(number of layers) and the width(number of neurons) of the nueral network. If adding a new layer does not provide significate decrease in the training error then there most liklely is not need to add more layers. Same goes for the network's width.\n",
        "\n"
      ],
      "metadata": {
        "id": "MbbUcfvDeUjs"
      }
    },
    {
      "cell_type": "code",
      "source": [
        "class Net(torch.nn.Module):\n",
        "    def __init__(self, n_feature, n_hidden, n_output):\n",
        "        super(Net, self).__init__()\n",
        "        self.hidden = torch.nn.Linear(n_feature, n_hidden)   \n",
        "        self.predict = torch.nn.Linear(n_hidden, n_output)  \n",
        "\n",
        "    def forward(self, x):\n",
        "        x = F.relu(self.hidden(x))      \n",
        "        x = self.predict(x)             \n",
        "        return x\n",
        "\n",
        "criterion = torch.nn.MSELoss()"
      ],
      "metadata": {
        "id": "IVbIe6JQexoQ"
      },
      "execution_count": 27,
      "outputs": []
    },
    {
      "cell_type": "code",
      "source": [
        "def train(experiment,optimizer_name, epoch,lr,weight_decay):\n",
        "  network.train()\n",
        "  optimizer = torch.optim.SGD(network.parameters(), lr=lr) \n",
        "  if optimizer_name=='gd':\n",
        "    prediction=network(experiment.data)\n",
        "    loss = criterion(prediction, experiment.targets)\n",
        "    optimizer.zero_grad()\n",
        "    loss.backward()\n",
        "    optimizer.step()\n",
        "\n",
        "  elif optimizer_name=='constrained_gd':\n",
        "    prediction=network(experiment.data)\n",
        "    loss = criterion(prediction, experiment.targets)\n",
        "    optimizer.zero_grad()\n",
        "    loss.backward()\n",
        "    optimizer.step()\n",
        "    with torch.no_grad():\n",
        "      for param in network.parameters():\n",
        "          param.clamp_(-1, 1)\n",
        "\n",
        "  elif optimizer_name=='regularized_gd':\n",
        "    optimizer = torch.optim.SGD(network.parameters(), lr=lr, weight_decay=weight_decay) \n",
        "    prediction=network(experiment.data)\n",
        "    loss = criterion(prediction, experiment.targets)\n",
        "    optimizer.zero_grad()\n",
        "    loss.backward()\n",
        "    optimizer.step()\n",
        "\n",
        "  elif optimizer_name=='sgd':\n",
        "    for batch_idx, (data, target) in enumerate(experiment):\n",
        "      optimizer.zero_grad()\n",
        "      output = network(data)\n",
        "      loss = F.nll_loss(output, target)\n",
        "      loss.backward()\n",
        "      optimizer.step()\n",
        "\n",
        "  else:\n",
        "    raise NotImplementedError(f\"This optimizer:{optimizer} is not impelemtned\")\n",
        "  "
      ],
      "metadata": {
        "id": "cix3bp5hjDSm"
      },
      "execution_count": null,
      "outputs": []
    },
    {
      "cell_type": "code",
      "source": [
        "\n",
        "n_epochs = 3\n",
        "batch_size_train = 64\n",
        "learning_rate = 0.01\n",
        "momentum = 0.5\n",
        "log_interval = 10\n",
        "lrs=[1e-4]\n",
        "weight_decays=[1e-5]\n",
        "\n",
        "random_seed = 1\n",
        "torch.backends.cudnn.enabled = False\n",
        "torch.manual_seed(random_seed)\n",
        "\n",
        "network = Net(n_feature=784, n_hidden=10, n_output=1)\n",
        "optimizers_names = ['gd','constrained_gd','regularized_gd','sgd'] \n",
        "experimetns = [mnist_trainset_zero_to_four_vs_five_to_nine, mnist_trainset_even_vs_odd, mnist_trainset_prime_vs_not_prime]\n",
        "for experiment in experimetns:\n",
        "  for optimizer_name in optimizers_names:\n",
        "    for epoch in range(1, n_epochs + 1):\n",
        "      for lr in lrs:\n",
        "        for weight_decay in weight_decays:\n",
        "          train(experiment,optimizer_name, epoch,lr, weight_decay)"
      ],
      "metadata": {
        "id": "GqDlwznGi7je"
      },
      "execution_count": null,
      "outputs": []
    }
  ]
}