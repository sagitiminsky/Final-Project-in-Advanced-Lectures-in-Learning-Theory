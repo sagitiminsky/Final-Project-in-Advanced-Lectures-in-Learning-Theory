{
  "nbformat": 4,
  "nbformat_minor": 0,
  "metadata": {
    "colab": {
      "name": "part1",
      "provenance": [],
      "collapsed_sections": [],
      "authorship_tag": "ABX9TyOddgGnNzjX49MneeNpW9JR"
    },
    "kernelspec": {
      "name": "python3",
      "display_name": "Python 3"
    },
    "language_info": {
      "name": "python"
    }
  },
  "cells": [
    {
      "cell_type": "markdown",
      "source": [
        "# Imports"
      ],
      "metadata": {
        "id": "XQp5qWm-l0lT"
      }
    },
    {
      "cell_type": "code",
      "source": [
        "import torchvision.datasets as datasets\n",
        "import torch"
      ],
      "metadata": {
        "id": "nr1zFGF6l5Pc"
      },
      "execution_count": 38,
      "outputs": []
    },
    {
      "cell_type": "markdown",
      "source": [
        "# Connect to Drive"
      ],
      "metadata": {
        "id": "LmsW6UHfoi0r"
      }
    },
    {
      "cell_type": "code",
      "source": [
        "from google.colab import drive\n",
        "drive.mount('/content/drive')"
      ],
      "metadata": {
        "colab": {
          "base_uri": "https://localhost:8080/"
        },
        "id": "2KLgJxQkoqNV",
        "outputId": "216fa57a-4332-4b71-fc30-b6d8e2244677"
      },
      "execution_count": 25,
      "outputs": [
        {
          "output_type": "stream",
          "name": "stdout",
          "text": [
            "Drive already mounted at /content/drive; to attempt to forcibly remount, call drive.mount(\"/content/drive\", force_remount=True).\n"
          ]
        }
      ]
    },
    {
      "cell_type": "code",
      "source": [
        "root=\"/content/drive/MyDrive/university/Masters/year\\ 2/semester\\ 1/Advanced\\ Learning\\ Theory/project\""
      ],
      "metadata": {
        "id": "B4bI2jNDpiYs"
      },
      "execution_count": 35,
      "outputs": []
    },
    {
      "cell_type": "markdown",
      "source": [
        "# Import MNIST Dataset\n",
        "According to the assignment, we should construct one big data set (which you will later divide to train-test by our selves."
      ],
      "metadata": {
        "id": "lTjZ5XkQllUC"
      }
    },
    {
      "cell_type": "code",
      "source": [
        "mnist_trainset = datasets.EMNIST(root=root, train=True, split=\"mnist\",download=True, transform=None)\n",
        "mnist_testset = datasets.EMNIST(root=root, train=False, split=\"mnist\",download=True, transform=None)"
      ],
      "metadata": {
        "id": "isIoQD3dlr9L"
      },
      "execution_count": 45,
      "outputs": []
    },
    {
      "cell_type": "code",
      "source": [
        "mnistdataset=mnist_trainset+mnist_testset"
      ],
      "metadata": {
        "id": "GSPU51d4l7Xc"
      },
      "execution_count": 48,
      "outputs": []
    },
    {
      "cell_type": "code",
      "source": [
        "train_image_zero, train_target_zero = mnist_trainset[114]\n",
        "display(train_image_zero)\n",
        "print(train_target_zero)"
      ],
      "metadata": {
        "colab": {
          "base_uri": "https://localhost:8080/",
          "height": 62
        },
        "id": "2OeUJ67lvCla",
        "outputId": "1d356a12-e09f-498e-f9d3-05235fb57abc"
      },
      "execution_count": 60,
      "outputs": [
        {
          "output_type": "display_data",
          "data": {
            "image/png": "[encoded data removed]",
            "text/plain": [
              "<PIL.Image.Image image mode=L size=28x28 at 0x7F526DB5AD50>"
            ]
          },
          "metadata": {}
        },
        {
          "output_type": "stream",
          "name": "stdout",
          "text": [
            "9\n"
          ]
        }
      ]
    },
    {
      "cell_type": "markdown",
      "source": [
        "# Preprocessing"
      ],
      "metadata": {
        "id": "9mO_6LBhvwmE"
      }
    },
    {
      "cell_type": "code",
      "source": [
        ""
      ],
      "metadata": {
        "id": "rruZ1D1ivzsw"
      },
      "execution_count": null,
      "outputs": []
    }
  ]
}